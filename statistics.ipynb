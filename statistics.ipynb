{
 "cells": [
  {
   "cell_type": "code",
   "execution_count": 4,
   "id": "4343b618",
   "metadata": {},
   "outputs": [],
   "source": [
    "import numpy as np\n",
    "import pandas as pd\n",
    "import random, json\n",
    "import math, time"
   ]
  },
  {
   "cell_type": "code",
   "execution_count": 5,
   "id": "5e3bb8d5",
   "metadata": {},
   "outputs": [],
   "source": [
    "def statistic_shrimp(file_name):\n",
    "    with open(file_name) as f:\n",
    "        data = json.load(f)\n",
    "\n",
    "    ID ,lengths, widths, areas = [], [], [], []\n",
    "    for result in data:\n",
    "        ID.append(result)\n",
    "        lengths.append(data[result]['length'])\n",
    "        widths.append(data[result]['width'])\n",
    "        areas.append(data[result]['area'])\n",
    "    df = pd.DataFrame({'ID':ID,'length':lengths,'width':widths,'area':areas})\n",
    "    df = df.set_index('ID')\n",
    "    df = df.describe()\n",
    "    return df"
   ]
  },
  {
   "cell_type": "code",
   "execution_count": 6,
   "id": "579082f4",
   "metadata": {},
   "outputs": [
    {
     "data": {
      "text/html": [
       "<div>\n",
       "<style scoped>\n",
       "    .dataframe tbody tr th:only-of-type {\n",
       "        vertical-align: middle;\n",
       "    }\n",
       "\n",
       "    .dataframe tbody tr th {\n",
       "        vertical-align: top;\n",
       "    }\n",
       "\n",
       "    .dataframe thead th {\n",
       "        text-align: right;\n",
       "    }\n",
       "</style>\n",
       "<table border=\"1\" class=\"dataframe\">\n",
       "  <thead>\n",
       "    <tr style=\"text-align: right;\">\n",
       "      <th></th>\n",
       "      <th>length</th>\n",
       "      <th>width</th>\n",
       "      <th>area</th>\n",
       "    </tr>\n",
       "  </thead>\n",
       "  <tbody>\n",
       "    <tr>\n",
       "      <th>count</th>\n",
       "      <td>16.000000</td>\n",
       "      <td>16.000000</td>\n",
       "      <td>16.000000</td>\n",
       "    </tr>\n",
       "    <tr>\n",
       "      <th>mean</th>\n",
       "      <td>314.312500</td>\n",
       "      <td>53.812500</td>\n",
       "      <td>16100.312500</td>\n",
       "    </tr>\n",
       "    <tr>\n",
       "      <th>std</th>\n",
       "      <td>62.046992</td>\n",
       "      <td>9.130307</td>\n",
       "      <td>4428.009526</td>\n",
       "    </tr>\n",
       "    <tr>\n",
       "      <th>min</th>\n",
       "      <td>182.000000</td>\n",
       "      <td>42.000000</td>\n",
       "      <td>8506.000000</td>\n",
       "    </tr>\n",
       "    <tr>\n",
       "      <th>25%</th>\n",
       "      <td>272.000000</td>\n",
       "      <td>45.000000</td>\n",
       "      <td>14729.000000</td>\n",
       "    </tr>\n",
       "    <tr>\n",
       "      <th>50%</th>\n",
       "      <td>340.000000</td>\n",
       "      <td>54.000000</td>\n",
       "      <td>16908.000000</td>\n",
       "    </tr>\n",
       "    <tr>\n",
       "      <th>75%</th>\n",
       "      <td>356.500000</td>\n",
       "      <td>59.000000</td>\n",
       "      <td>18446.000000</td>\n",
       "    </tr>\n",
       "    <tr>\n",
       "      <th>max</th>\n",
       "      <td>390.000000</td>\n",
       "      <td>74.000000</td>\n",
       "      <td>23264.000000</td>\n",
       "    </tr>\n",
       "  </tbody>\n",
       "</table>\n",
       "</div>"
      ],
      "text/plain": [
       "           length      width          area\n",
       "count   16.000000  16.000000     16.000000\n",
       "mean   314.312500  53.812500  16100.312500\n",
       "std     62.046992   9.130307   4428.009526\n",
       "min    182.000000  42.000000   8506.000000\n",
       "25%    272.000000  45.000000  14729.000000\n",
       "50%    340.000000  54.000000  16908.000000\n",
       "75%    356.500000  59.000000  18446.000000\n",
       "max    390.000000  74.000000  23264.000000"
      ]
     },
     "execution_count": 6,
     "metadata": {},
     "output_type": "execute_result"
    }
   ],
   "source": [
    "file = '28'\n",
    "file_name = 'predict/new_image_'+file+'_lengthAndwidth.json'\n",
    "df = statistic_shrimp(file_name)\n",
    "df"
   ]
  },
  {
   "cell_type": "code",
   "execution_count": 7,
   "id": "b6bdfcb2",
   "metadata": {},
   "outputs": [
    {
     "data": {
      "text/plain": [
       "{'count': {'length': 16.0, 'width': 16.0, 'area': 16.0},\n",
       " 'mean': {'length': 314.3125, 'width': 53.8125, 'area': 16100.3125},\n",
       " 'std': {'length': 62.0469916005,\n",
       "  'width': 9.1303066761,\n",
       "  'area': 4428.0095260173},\n",
       " 'min': {'length': 182.0, 'width': 42.0, 'area': 8506.0},\n",
       " '25%': {'length': 272.0, 'width': 45.0, 'area': 14729.0},\n",
       " '50%': {'length': 340.0, 'width': 54.0, 'area': 16908.0},\n",
       " '75%': {'length': 356.5, 'width': 59.0, 'area': 18446.0},\n",
       " 'max': {'length': 390.0, 'width': 74.0, 'area': 23264.0}}"
      ]
     },
     "execution_count": 7,
     "metadata": {},
     "output_type": "execute_result"
    }
   ],
   "source": [
    "result = df.to_json(orient=\"index\")\n",
    "parsed = json.loads(result)\n",
    "parsed "
   ]
  },
  {
   "cell_type": "code",
   "execution_count": null,
   "id": "8044d1af",
   "metadata": {},
   "outputs": [],
   "source": []
  },
  {
   "cell_type": "code",
   "execution_count": null,
   "id": "ff259166",
   "metadata": {},
   "outputs": [],
   "source": []
  }
 ],
 "metadata": {
  "kernelspec": {
   "display_name": "Python 3 (ipykernel)",
   "language": "python",
   "name": "python3"
  },
  "language_info": {
   "codemirror_mode": {
    "name": "ipython",
    "version": 3
   },
   "file_extension": ".py",
   "mimetype": "text/x-python",
   "name": "python",
   "nbconvert_exporter": "python",
   "pygments_lexer": "ipython3",
   "version": "3.7.11"
  }
 },
 "nbformat": 4,
 "nbformat_minor": 5
}
